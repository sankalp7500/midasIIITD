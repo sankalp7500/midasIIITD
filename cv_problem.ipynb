{
 "cells": [
  {
   "cell_type": "code",
   "execution_count": 10,
   "metadata": {},
   "outputs": [],
   "source": [
    "import pickle\n",
    "import numpy as np\n",
    "import pandas as pd\n",
    "from sklearn.model_selection import train_test_split\n",
    "from sklearn.ensemble import RandomForestClassifier\n",
    "from sklearn.metrics import accuracy_score"
   ]
  },
  {
   "cell_type": "markdown",
   "metadata": {},
   "source": [
    "Including all important libraries such as numpy to store image conf,pickle to deal with dataset provided,train_test_split for spliting the dataset into train and validation ,Random Forest Classifier model to train the data, accuracy_score to measure correctness"
   ]
  },
  {
   "cell_type": "code",
   "execution_count": 12,
   "metadata": {},
   "outputs": [],
   "source": [
    "with open('train_image.pkl', 'rb') as f:\n",
    "    train_x = pickle.load(f)\n",
    "\n",
    "with open('train_label.pkl', 'rb') as f:\n",
    "    train_y = pickle.load(f)\n",
    "\n",
    "with open('test_image.pkl', 'rb') as f:\n",
    "    X_test = pickle.load(f)"
   ]
  },
  {
   "cell_type": "markdown",
   "metadata": {},
   "source": [
    "categoring training input and output along with test input"
   ]
  },
  {
   "cell_type": "code",
   "execution_count": 15,
   "metadata": {},
   "outputs": [],
   "source": [
    "#creating training and validation data from training data\n",
    "X_train,X_valid,Y_train,Y_valid=train_test_split(train_x,train_y,test_size=0.2)"
   ]
  },
  {
   "cell_type": "markdown",
   "metadata": {},
   "source": [
    "Spliting the dataset into train and validation with train dataset 80% and validation 20%"
   ]
  },
  {
   "cell_type": "code",
   "execution_count": 16,
   "metadata": {},
   "outputs": [
    {
     "data": {
      "text/plain": [
       "RandomForestClassifier(bootstrap=True, class_weight=None, criterion='gini',\n",
       "            max_depth=None, max_features='auto', max_leaf_nodes=None,\n",
       "            min_impurity_decrease=0.0, min_impurity_split=None,\n",
       "            min_samples_leaf=1, min_samples_split=2,\n",
       "            min_weight_fraction_leaf=0.0, n_estimators=200, n_jobs=None,\n",
       "            oob_score=False, random_state=None, verbose=0,\n",
       "            warm_start=False)"
      ]
     },
     "execution_count": 16,
     "metadata": {},
     "output_type": "execute_result"
    }
   ],
   "source": [
    "#adding Random forest classifier model\n",
    "rf=RandomForestClassifier(n_estimators = 200)\n",
    "rf.fit(X_train, Y_train)"
   ]
  },
  {
   "cell_type": "markdown",
   "metadata": {},
   "source": [
    "Using the classifier with n_estimator means the no of attributes having trees in the forest"
   ]
  },
  {
   "cell_type": "code",
   "execution_count": 17,
   "metadata": {},
   "outputs": [],
   "source": [
    "## Predicting the values\n",
    "train_predict = rf.predict(X_train)\n",
    "valid_predict = rf.predict(X_valid)"
   ]
  },
  {
   "cell_type": "markdown",
   "metadata": {},
   "source": [
    "predicting the train and validation data set"
   ]
  },
  {
   "cell_type": "code",
   "execution_count": 20,
   "metadata": {},
   "outputs": [
    {
     "name": "stdout",
     "output_type": "stream",
     "text": [
      "train accuracy:: 1.0\n",
      "valid accuracy:: 0.83375\n"
     ]
    }
   ],
   "source": [
    "## Checking the accuracy\n",
    "print(\"train accuracy::\",accuracy_score(Y_train, train_predict))\n",
    "print(\"valid accuracy::\",accuracy_score(Y_valid, valid_predict))"
   ]
  },
  {
   "cell_type": "markdown",
   "metadata": {},
   "source": [
    "Measuring the accuray by comparing results"
   ]
  },
  {
   "cell_type": "code",
   "execution_count": 8,
   "metadata": {},
   "outputs": [],
   "source": [
    "test_prediction = rf.predict(X_test)\n",
    "\n",
    "arr1=[]\n",
    "seq = []\n",
    "for i in range(0,len(test_prediction)):\n",
    "    seq.append(i)\n",
    "    arr1.append(test_prediction[i])\n",
    "\n",
    "submission = pd.DataFrame({\"image_index\": seq, \"class\": arr1})\n",
    "submission.to_csv(\"sankalp_rusia.csv\", index=False)"
   ]
  },
  {
   "cell_type": "markdown",
   "metadata": {},
   "source": [
    "creating a dataframe and saving the results into csv file"
   ]
  },
  {
   "cell_type": "code",
   "execution_count": null,
   "metadata": {},
   "outputs": [],
   "source": []
  }
 ],
 "metadata": {
  "kernelspec": {
   "display_name": "Python 3",
   "language": "python",
   "name": "python3"
  },
  "language_info": {
   "codemirror_mode": {
    "name": "ipython",
    "version": 3
   },
   "file_extension": ".py",
   "mimetype": "text/x-python",
   "name": "python",
   "nbconvert_exporter": "python",
   "pygments_lexer": "ipython3",
   "version": "3.7.3"
  }
 },
 "nbformat": 4,
 "nbformat_minor": 2
}
